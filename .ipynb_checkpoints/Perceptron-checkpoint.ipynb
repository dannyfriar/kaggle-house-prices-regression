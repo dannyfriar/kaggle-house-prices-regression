{
 "cells": [
  {
   "cell_type": "code",
   "execution_count": 113,
   "metadata": {
    "collapsed": true
   },
   "outputs": [],
   "source": [
    "import random\n",
    "import numpy as np\n",
    "import pandas as pd\n",
    "import tensorflow as tf\n",
    "\n",
    "random.seed(0)"
   ]
  },
  {
   "cell_type": "code",
   "execution_count": 114,
   "metadata": {
    "collapsed": false
   },
   "outputs": [],
   "source": [
    "# Read in training predictions and true values\n",
    "y_train = pd.read_csv(\"predictions/y_train.csv\")\n",
    "y_train = np.array(y_train[[1]])\n",
    "\n",
    "xg = np.genfromtxt('predictions/xg.csv', delimiter=\",\").reshape(-1, 1)\n",
    "et = np.genfromtxt('predictions/et.csv', delimiter=\",\").reshape(-1, 1)\n",
    "rf = np.genfromtxt('predictions/rf.csv', delimiter=\",\").reshape(-1, 1)\n",
    "rd = np.genfromtxt('predictions/rd.csv', delimiter=\",\").reshape(-1, 1)\n",
    "ls = np.genfromtxt('predictions/ls.csv', delimiter=\",\").reshape(-1, 1)\n",
    "\n",
    "X_train = np.concatenate((xg, et, rf, rd, ls), axis=1)\n",
    "X_train = X_train[1:y_train.shape[0]+1, :]  # check why one obs missing\n",
    "\n",
    "# Read in testing predictions and true values"
   ]
  },
  {
   "cell_type": "code",
   "execution_count": 115,
   "metadata": {
    "collapsed": false
   },
   "outputs": [],
   "source": [
    "learning_rate = 0.5\n",
    "batch_size = 1\n",
    "training_cycles = 10\n",
    "n_input = 5\n",
    "n_samples = y_train.shape[0]\n",
    "\n",
    "#---- Build computation graph\n",
    "x = tf.placeholder(tf.float32, [None, n_input])\n",
    "y = tf.placeholder(tf.float32, [None, 1])\n",
    "\n",
    "W = tf.Variable(tf.constant(0.0001, shape=[n_input, 1]))\n",
    "b = tf.Variable(tf.zeros(shape=[1]))\n",
    "tf.add_to_collection('vars', W)\n",
    "tf.add_to_collection('vars', b)\n",
    "pred = tf.matmul(x, W) + b\n",
    "\n",
    "cost = tf.reduce_sum(tf.pow(pred-y, 2))/(2*n_samples)  # Square loss\n",
    "opt = tf.train.GradientDescentOptimizer(learning_rate)\n",
    "train_op = opt.minimize(cost)\n",
    "init = tf.initialize_all_variables()"
   ]
  },
  {
   "cell_type": "code",
   "execution_count": 116,
   "metadata": {
    "collapsed": false,
    "scrolled": true
   },
   "outputs": [
    {
     "name": "stdout",
     "output_type": "stream",
     "text": [
      "Training cost after cycle 0: 0.006847\n",
      "Training cost after cycle 1: 0.006845\n",
      "Training cost after cycle 2: 0.006844\n",
      "Training cost after cycle 3: 0.006843\n",
      "Training cost after cycle 4: 0.006842\n",
      "Training cost after cycle 5: 0.006841\n",
      "Training cost after cycle 6: 0.006839\n",
      "Training cost after cycle 7: 0.006838\n",
      "Training cost after cycle 8: 0.006837\n",
      "Training cost after cycle 9: 0.006836\n",
      "[[ 0.20016257]\n",
      " [ 0.19619349]\n",
      " [ 0.19589345]\n",
      " [ 0.2031226 ]\n",
      " [ 0.20325312]]\n",
      "[ 0.0134666]\n"
     ]
    }
   ],
   "source": [
    "with tf.Session() as sess:\n",
    "    sess.run(init)\n",
    "    \n",
    "    r = random.random()\n",
    "    random.shuffle(X_train, lambda : r)\n",
    "    random.shuffle(y_train, lambda : r)\n",
    "    \n",
    "    for i in range(training_cycles):\n",
    "        for j in range(n_samples):\n",
    "            sess.run(train_op, feed_dict={x: X_train[j, :].reshape(-1, 1).T, y: y_train[j].reshape(-1, 1)})\n",
    "        \n",
    "        print \"Training cost after cycle %d: %f\" % (i, cost.eval(feed_dict={x: X_train, y: y_train}))\n",
    "    \n",
    "    print sess.run(W)\n",
    "    print sess.run(b)\n",
    "    sess.close()"
   ]
  },
  {
   "cell_type": "code",
   "execution_count": null,
   "metadata": {
    "collapsed": true
   },
   "outputs": [],
   "source": []
  },
  {
   "cell_type": "code",
   "execution_count": null,
   "metadata": {
    "collapsed": true
   },
   "outputs": [],
   "source": []
  }
 ],
 "metadata": {
  "kernelspec": {
   "display_name": "Python 2",
   "language": "python",
   "name": "python2"
  },
  "language_info": {
   "codemirror_mode": {
    "name": "ipython",
    "version": 2
   },
   "file_extension": ".py",
   "mimetype": "text/x-python",
   "name": "python",
   "nbconvert_exporter": "python",
   "pygments_lexer": "ipython2",
   "version": "2.7.11"
  }
 },
 "nbformat": 4,
 "nbformat_minor": 0
}
